{
  "nbformat": 4,
  "nbformat_minor": 0,
  "metadata": {
    "colab": {
      "name": "aDayInLife.ipynb",
      "provenance": [],
      "toc_visible": true,
      "mount_file_id": "1EqU8jh066VFMHxYo-W34ctrZUcUT_WxJ",
      "authorship_tag": "ABX9TyNDaSLChPh0faZV0PEepn8c",
      "include_colab_link": true
    },
    "kernelspec": {
      "name": "python3",
      "display_name": "Python 3"
    }
  },
  "cells": [
    {
      "cell_type": "markdown",
      "metadata": {
        "id": "view-in-github",
        "colab_type": "text"
      },
      "source": [
        "<a href=\"https://colab.research.google.com/github/spps-supalerk/CRM_Analytics/blob/main/aDayInLife.ipynb\" target=\"_parent\"><img src=\"https://colab.research.google.com/assets/colab-badge.svg\" alt=\"Open In Colab\"/></a>"
      ]
    },
    {
      "cell_type": "markdown",
      "metadata": {
        "id": "qUu-9dP4atpe"
      },
      "source": [
        "# Import Library"
      ]
    },
    {
      "cell_type": "code",
      "metadata": {
        "id": "-o2v1V5u2fAZ"
      },
      "source": [
        "import pandas as pd\r\n",
        "import numpy as np\r\n",
        "import matplotlib.pyplot as plt\r\n",
        "import seaborn as sns\r\n",
        "%matplotlib inline\r\n",
        "\r\n",
        "import matplotlib as mpl\r\n",
        "plt.rcParams['font.family'] = 'tahoma'\r\n",
        "!wget -q https://github.com/Phonbopit/sarabun-webfont/raw/master/fonts/thsarabunnew-webfont.ttf\r\n",
        "mpl.font_manager.fontManager.addfont('thsarabunnew-webfont.ttf')\r\n",
        "mpl.rc('font', family='TH Sarabun New', size=10)"
      ],
      "execution_count": 1,
      "outputs": []
    },
    {
      "cell_type": "code",
      "metadata": {
        "colab": {
          "base_uri": "https://localhost:8080/",
          "height": 198
        },
        "id": "yFmOtiP12pqs",
        "outputId": "32f4fb57-61c7-4741-be86-91d52818d883"
      },
      "source": [
        "df_day = pd.read_csv('/content/drive/MyDrive/CRM_Analytics/Assignment 3 - A Day in Life/adayinlife.csv')\r\n",
        "df_day.head()"
      ],
      "execution_count": 2,
      "outputs": [
        {
          "output_type": "execute_result",
          "data": {
            "text/html": [
              "<div>\n",
              "<style scoped>\n",
              "    .dataframe tbody tr th:only-of-type {\n",
              "        vertical-align: middle;\n",
              "    }\n",
              "\n",
              "    .dataframe tbody tr th {\n",
              "        vertical-align: top;\n",
              "    }\n",
              "\n",
              "    .dataframe thead th {\n",
              "        text-align: right;\n",
              "    }\n",
              "</style>\n",
              "<table border=\"1\" class=\"dataframe\">\n",
              "  <thead>\n",
              "    <tr style=\"text-align: right;\">\n",
              "      <th></th>\n",
              "      <th>time</th>\n",
              "      <th>activity</th>\n",
              "      <th>pain</th>\n",
              "      <th>gain</th>\n",
              "      <th>stu_id</th>\n",
              "      <th>time_type</th>\n",
              "      <th>time_hr</th>\n",
              "      <th>time_min</th>\n",
              "    </tr>\n",
              "  </thead>\n",
              "  <tbody>\n",
              "    <tr>\n",
              "      <th>0</th>\n",
              "      <td>08.30</td>\n",
              "      <td>ตื่นนอน</td>\n",
              "      <td>ไม่อยากตื่น อยากนอนต่อ</td>\n",
              "      <td>ได้เริ่มต้นวันใหม่</td>\n",
              "      <td>6210422033</td>\n",
              "      <td>NaN</td>\n",
              "      <td>08</td>\n",
              "      <td>30</td>\n",
              "    </tr>\n",
              "    <tr>\n",
              "      <th>1</th>\n",
              "      <td>08.35</td>\n",
              "      <td>อาบน้ำ</td>\n",
              "      <td>ยังอยากนอนต่อ</td>\n",
              "      <td>สดชื่น+สะอาด</td>\n",
              "      <td>6210422033</td>\n",
              "      <td>NaN</td>\n",
              "      <td>08</td>\n",
              "      <td>35</td>\n",
              "    </tr>\n",
              "    <tr>\n",
              "      <th>2</th>\n",
              "      <td>09.00</td>\n",
              "      <td>กินอาหาเช้า</td>\n",
              "      <td>ต้องสั่ง Delivery</td>\n",
              "      <td>อิ่มท้อง</td>\n",
              "      <td>6210422033</td>\n",
              "      <td>NaN</td>\n",
              "      <td>09</td>\n",
              "      <td>0</td>\n",
              "    </tr>\n",
              "    <tr>\n",
              "      <th>3</th>\n",
              "      <td>10.00</td>\n",
              "      <td>เดินทางด้วย BTS ไปทำงาน</td>\n",
              "      <td>ราคาสูง</td>\n",
              "      <td>เดินทางสะดวกสบาย</td>\n",
              "      <td>6210422033</td>\n",
              "      <td>NaN</td>\n",
              "      <td>10</td>\n",
              "      <td>0</td>\n",
              "    </tr>\n",
              "    <tr>\n",
              "      <th>4</th>\n",
              "      <td>10.30</td>\n",
              "      <td>ถึงที่ทำงาน เริ่มทำงาน</td>\n",
              "      <td>NaN</td>\n",
              "      <td>เป็นช่วงที่พร้อมทำงานที่สุด</td>\n",
              "      <td>6210422033</td>\n",
              "      <td>NaN</td>\n",
              "      <td>10</td>\n",
              "      <td>30</td>\n",
              "    </tr>\n",
              "  </tbody>\n",
              "</table>\n",
              "</div>"
            ],
            "text/plain": [
              "    time                 activity  ... time_hr time_min\n",
              "0  08.30                  ตื่นนอน  ...      08       30\n",
              "1  08.35                   อาบน้ำ  ...      08       35\n",
              "2  09.00              กินอาหาเช้า  ...      09        0\n",
              "3  10.00  เดินทางด้วย BTS ไปทำงาน  ...      10        0\n",
              "4  10.30   ถึงที่ทำงาน เริ่มทำงาน  ...      10       30\n",
              "\n",
              "[5 rows x 8 columns]"
            ]
          },
          "metadata": {
            "tags": []
          },
          "execution_count": 2
        }
      ]
    },
    {
      "cell_type": "code",
      "metadata": {
        "id": "X2mlKjyp30-x"
      },
      "source": [
        "# for those who want to use simple function --> use only {time_hr}.00-{time_hr+1}.00\r\n",
        "def round_time(df, min_round = 60):\r\n",
        "  hr = df['time_hr']\r\n",
        "  min = df['time_min']\r\n",
        "  hr += ( min //min_round )\r\n",
        "  return f'{str(hr).zfill(2)}.00-{str(hr+1).zfill(2)}.00'"
      ],
      "execution_count": 3,
      "outputs": []
    },
    {
      "cell_type": "code",
      "metadata": {
        "id": "zskuroZQ28ed"
      },
      "source": [
        "# clean time\r\n",
        "df_day['time_hr'] = df_day['time_hr'].replace('24','0')\r\n",
        "df_day['time_hr'] = df_day['time_hr'].astype(int)\r\n",
        "df_day['time_min'] = df_day['time_min'].astype(int)\r\n",
        "df_day['time_range'] = df_day.apply(round_time,axis=1)\r\n",
        "\r\n",
        "# get activity number\r\n",
        "df_day['activity_num'] = df_day.groupby(['stu_id']).cumcount()+1"
      ],
      "execution_count": 4,
      "outputs": []
    },
    {
      "cell_type": "code",
      "metadata": {
        "colab": {
          "base_uri": "https://localhost:8080/",
          "height": 198
        },
        "id": "-sDpTiTH3Dmq",
        "outputId": "78b324a1-4e2c-4a1f-d1d5-81adbf799502"
      },
      "source": [
        "df_day.head()"
      ],
      "execution_count": 5,
      "outputs": [
        {
          "output_type": "execute_result",
          "data": {
            "text/html": [
              "<div>\n",
              "<style scoped>\n",
              "    .dataframe tbody tr th:only-of-type {\n",
              "        vertical-align: middle;\n",
              "    }\n",
              "\n",
              "    .dataframe tbody tr th {\n",
              "        vertical-align: top;\n",
              "    }\n",
              "\n",
              "    .dataframe thead th {\n",
              "        text-align: right;\n",
              "    }\n",
              "</style>\n",
              "<table border=\"1\" class=\"dataframe\">\n",
              "  <thead>\n",
              "    <tr style=\"text-align: right;\">\n",
              "      <th></th>\n",
              "      <th>time</th>\n",
              "      <th>activity</th>\n",
              "      <th>pain</th>\n",
              "      <th>gain</th>\n",
              "      <th>stu_id</th>\n",
              "      <th>time_type</th>\n",
              "      <th>time_hr</th>\n",
              "      <th>time_min</th>\n",
              "      <th>time_range</th>\n",
              "      <th>activity_num</th>\n",
              "    </tr>\n",
              "  </thead>\n",
              "  <tbody>\n",
              "    <tr>\n",
              "      <th>0</th>\n",
              "      <td>08.30</td>\n",
              "      <td>ตื่นนอน</td>\n",
              "      <td>ไม่อยากตื่น อยากนอนต่อ</td>\n",
              "      <td>ได้เริ่มต้นวันใหม่</td>\n",
              "      <td>6210422033</td>\n",
              "      <td>NaN</td>\n",
              "      <td>8</td>\n",
              "      <td>30</td>\n",
              "      <td>08.00-09.00</td>\n",
              "      <td>1</td>\n",
              "    </tr>\n",
              "    <tr>\n",
              "      <th>1</th>\n",
              "      <td>08.35</td>\n",
              "      <td>อาบน้ำ</td>\n",
              "      <td>ยังอยากนอนต่อ</td>\n",
              "      <td>สดชื่น+สะอาด</td>\n",
              "      <td>6210422033</td>\n",
              "      <td>NaN</td>\n",
              "      <td>8</td>\n",
              "      <td>35</td>\n",
              "      <td>08.00-09.00</td>\n",
              "      <td>2</td>\n",
              "    </tr>\n",
              "    <tr>\n",
              "      <th>2</th>\n",
              "      <td>09.00</td>\n",
              "      <td>กินอาหาเช้า</td>\n",
              "      <td>ต้องสั่ง Delivery</td>\n",
              "      <td>อิ่มท้อง</td>\n",
              "      <td>6210422033</td>\n",
              "      <td>NaN</td>\n",
              "      <td>9</td>\n",
              "      <td>0</td>\n",
              "      <td>09.00-10.00</td>\n",
              "      <td>3</td>\n",
              "    </tr>\n",
              "    <tr>\n",
              "      <th>3</th>\n",
              "      <td>10.00</td>\n",
              "      <td>เดินทางด้วย BTS ไปทำงาน</td>\n",
              "      <td>ราคาสูง</td>\n",
              "      <td>เดินทางสะดวกสบาย</td>\n",
              "      <td>6210422033</td>\n",
              "      <td>NaN</td>\n",
              "      <td>10</td>\n",
              "      <td>0</td>\n",
              "      <td>10.00-11.00</td>\n",
              "      <td>4</td>\n",
              "    </tr>\n",
              "    <tr>\n",
              "      <th>4</th>\n",
              "      <td>10.30</td>\n",
              "      <td>ถึงที่ทำงาน เริ่มทำงาน</td>\n",
              "      <td>NaN</td>\n",
              "      <td>เป็นช่วงที่พร้อมทำงานที่สุด</td>\n",
              "      <td>6210422033</td>\n",
              "      <td>NaN</td>\n",
              "      <td>10</td>\n",
              "      <td>30</td>\n",
              "      <td>10.00-11.00</td>\n",
              "      <td>5</td>\n",
              "    </tr>\n",
              "  </tbody>\n",
              "</table>\n",
              "</div>"
            ],
            "text/plain": [
              "    time                 activity  ...   time_range activity_num\n",
              "0  08.30                  ตื่นนอน  ...  08.00-09.00            1\n",
              "1  08.35                   อาบน้ำ  ...  08.00-09.00            2\n",
              "2  09.00              กินอาหาเช้า  ...  09.00-10.00            3\n",
              "3  10.00  เดินทางด้วย BTS ไปทำงาน  ...  10.00-11.00            4\n",
              "4  10.30   ถึงที่ทำงาน เริ่มทำงาน  ...  10.00-11.00            5\n",
              "\n",
              "[5 rows x 10 columns]"
            ]
          },
          "metadata": {
            "tags": []
          },
          "execution_count": 5
        }
      ]
    },
    {
      "cell_type": "code",
      "metadata": {
        "id": "fXQX0RNRg0ti"
      },
      "source": [
        "# flag last activity\r\n",
        "df_last_act = df_day.groupby(['stu_id'])['activity_num'].max().reset_index()\r\n",
        "df_last_act['last_act'] = 1\r\n",
        "\r\n",
        "# merge last activity to df_day\r\n",
        "df_day = df_day.merge(df_last_act, on= ['stu_id','activity_num'], how = 'left')\r\n",
        "\r\n",
        "# when BADS student wake\r\n",
        "df_wake = df_day[df_day['activity_num']==1][['stu_id','time_range']]\r\n",
        "df_wake.columns = ['stu_id','wake_time']\r\n",
        "\r\n",
        "# when BADS student sleep\r\n",
        "df_sleep = df_day[df_day['last_act']==1][['stu_id','time_range']]\r\n",
        "df_sleep.columns = ['stu_id','sleep_time']"
      ],
      "execution_count": 6,
      "outputs": []
    },
    {
      "cell_type": "code",
      "metadata": {
        "colab": {
          "base_uri": "https://localhost:8080/",
          "height": 198
        },
        "id": "qVgRGRp9dWLL",
        "outputId": "1b055e6d-a940-4b0f-f4d0-c6d56356bf18"
      },
      "source": [
        "# create df contains stu_id, awake_hr (number of awake time in hr), sleep_hr (number of sleep time in hr)\r\n",
        "wake2sleep = df_wake.merge(df_sleep,how='inner', on = 'stu_id')\r\n",
        "wake2sleep['wake_time_hr'] = wake2sleep['wake_time'].apply(lambda x:int(x.split('.')[0]))\r\n",
        "wake2sleep['sleep_time_hr'] = wake2sleep['sleep_time'].apply(lambda x:int(x.split('.')[0]))\r\n",
        "wake2sleep['awake_time'] = wake2sleep['sleep_time_hr'] - wake2sleep['wake_time_hr'] \r\n",
        "wake2sleep['awake_time'] = wake2sleep['awake_time'].apply(lambda x: x+24 if x<=0 else x)\r\n",
        "wake2sleep['sleep_time'] = 24 - wake2sleep['awake_time'] \r\n",
        "wake2sleep = wake2sleep[['stu_id','awake_time','sleep_time']].rename(columns = {'awake_time':'awake_hr', 'sleep_time' : 'sleep_hr'})\r\n",
        "wake2sleep.head()"
      ],
      "execution_count": 7,
      "outputs": [
        {
          "output_type": "execute_result",
          "data": {
            "text/html": [
              "<div>\n",
              "<style scoped>\n",
              "    .dataframe tbody tr th:only-of-type {\n",
              "        vertical-align: middle;\n",
              "    }\n",
              "\n",
              "    .dataframe tbody tr th {\n",
              "        vertical-align: top;\n",
              "    }\n",
              "\n",
              "    .dataframe thead th {\n",
              "        text-align: right;\n",
              "    }\n",
              "</style>\n",
              "<table border=\"1\" class=\"dataframe\">\n",
              "  <thead>\n",
              "    <tr style=\"text-align: right;\">\n",
              "      <th></th>\n",
              "      <th>stu_id</th>\n",
              "      <th>awake_hr</th>\n",
              "      <th>sleep_hr</th>\n",
              "    </tr>\n",
              "  </thead>\n",
              "  <tbody>\n",
              "    <tr>\n",
              "      <th>0</th>\n",
              "      <td>6210422033</td>\n",
              "      <td>16</td>\n",
              "      <td>8</td>\n",
              "    </tr>\n",
              "    <tr>\n",
              "      <th>1</th>\n",
              "      <td>6210422035</td>\n",
              "      <td>16</td>\n",
              "      <td>8</td>\n",
              "    </tr>\n",
              "    <tr>\n",
              "      <th>2</th>\n",
              "      <td>6220422004</td>\n",
              "      <td>18</td>\n",
              "      <td>6</td>\n",
              "    </tr>\n",
              "    <tr>\n",
              "      <th>3</th>\n",
              "      <td>6310422093</td>\n",
              "      <td>18</td>\n",
              "      <td>6</td>\n",
              "    </tr>\n",
              "    <tr>\n",
              "      <th>4</th>\n",
              "      <td>6310422096</td>\n",
              "      <td>17</td>\n",
              "      <td>7</td>\n",
              "    </tr>\n",
              "  </tbody>\n",
              "</table>\n",
              "</div>"
            ],
            "text/plain": [
              "       stu_id  awake_hr  sleep_hr\n",
              "0  6210422033        16         8\n",
              "1  6210422035        16         8\n",
              "2  6220422004        18         6\n",
              "3  6310422093        18         6\n",
              "4  6310422096        17         7"
            ]
          },
          "metadata": {
            "tags": []
          },
          "execution_count": 7
        }
      ]
    },
    {
      "cell_type": "code",
      "metadata": {
        "colab": {
          "base_uri": "https://localhost:8080/"
        },
        "id": "lhWjHTzvfl1Q",
        "outputId": "b90b6cfd-8334-4ebf-8bf7-3f6bc1177375"
      },
      "source": [
        "# something wrong with 5\r\n",
        "wake2sleep['awake_hr'].value_counts()"
      ],
      "execution_count": 16,
      "outputs": [
        {
          "output_type": "execute_result",
          "data": {
            "text/plain": [
              "18    18\n",
              "17    14\n",
              "19     6\n",
              "16     6\n",
              "15     1\n",
              "5      1\n",
              "Name: awake_hr, dtype: int64"
            ]
          },
          "metadata": {
            "tags": []
          },
          "execution_count": 16
        }
      ]
    },
    {
      "cell_type": "code",
      "metadata": {
        "colab": {
          "base_uri": "https://localhost:8080/"
        },
        "id": "CIoUUYudfrgJ",
        "outputId": "829dd06f-7347-49ef-faae-9b63ae1464cf"
      },
      "source": [
        "# something wrong with 19\r\n",
        "wake2sleep['sleep_hr'].value_counts()"
      ],
      "execution_count": 17,
      "outputs": [
        {
          "output_type": "execute_result",
          "data": {
            "text/plain": [
              "6     18\n",
              "7     14\n",
              "8      6\n",
              "5      6\n",
              "19     1\n",
              "9      1\n",
              "Name: sleep_hr, dtype: int64"
            ]
          },
          "metadata": {
            "tags": []
          },
          "execution_count": 17
        }
      ]
    },
    {
      "cell_type": "code",
      "metadata": {
        "colab": {
          "base_uri": "https://localhost:8080/",
          "height": 250
        },
        "id": "VqIFugxgfS2c",
        "outputId": "c8100789-8c79-434d-e476-0be0059f65a8"
      },
      "source": [
        "df_day.head()"
      ],
      "execution_count": 15,
      "outputs": [
        {
          "output_type": "execute_result",
          "data": {
            "text/html": [
              "<div>\n",
              "<style scoped>\n",
              "    .dataframe tbody tr th:only-of-type {\n",
              "        vertical-align: middle;\n",
              "    }\n",
              "\n",
              "    .dataframe tbody tr th {\n",
              "        vertical-align: top;\n",
              "    }\n",
              "\n",
              "    .dataframe thead th {\n",
              "        text-align: right;\n",
              "    }\n",
              "</style>\n",
              "<table border=\"1\" class=\"dataframe\">\n",
              "  <thead>\n",
              "    <tr style=\"text-align: right;\">\n",
              "      <th></th>\n",
              "      <th>time</th>\n",
              "      <th>activity</th>\n",
              "      <th>pain</th>\n",
              "      <th>gain</th>\n",
              "      <th>stu_id</th>\n",
              "      <th>time_type</th>\n",
              "      <th>time_hr</th>\n",
              "      <th>time_min</th>\n",
              "      <th>time_range</th>\n",
              "      <th>activity_num</th>\n",
              "      <th>last_act</th>\n",
              "    </tr>\n",
              "  </thead>\n",
              "  <tbody>\n",
              "    <tr>\n",
              "      <th>0</th>\n",
              "      <td>08.30</td>\n",
              "      <td>ตื่นนอน</td>\n",
              "      <td>ไม่อยากตื่น อยากนอนต่อ</td>\n",
              "      <td>ได้เริ่มต้นวันใหม่</td>\n",
              "      <td>6210422033</td>\n",
              "      <td>NaN</td>\n",
              "      <td>8</td>\n",
              "      <td>30</td>\n",
              "      <td>08.00-09.00</td>\n",
              "      <td>1</td>\n",
              "      <td>NaN</td>\n",
              "    </tr>\n",
              "    <tr>\n",
              "      <th>1</th>\n",
              "      <td>08.35</td>\n",
              "      <td>อาบน้ำ</td>\n",
              "      <td>ยังอยากนอนต่อ</td>\n",
              "      <td>สดชื่น+สะอาด</td>\n",
              "      <td>6210422033</td>\n",
              "      <td>NaN</td>\n",
              "      <td>8</td>\n",
              "      <td>35</td>\n",
              "      <td>08.00-09.00</td>\n",
              "      <td>2</td>\n",
              "      <td>NaN</td>\n",
              "    </tr>\n",
              "    <tr>\n",
              "      <th>2</th>\n",
              "      <td>09.00</td>\n",
              "      <td>กินอาหาเช้า</td>\n",
              "      <td>ต้องสั่ง Delivery</td>\n",
              "      <td>อิ่มท้อง</td>\n",
              "      <td>6210422033</td>\n",
              "      <td>NaN</td>\n",
              "      <td>9</td>\n",
              "      <td>0</td>\n",
              "      <td>09.00-10.00</td>\n",
              "      <td>3</td>\n",
              "      <td>NaN</td>\n",
              "    </tr>\n",
              "    <tr>\n",
              "      <th>3</th>\n",
              "      <td>10.00</td>\n",
              "      <td>เดินทางด้วย BTS ไปทำงาน</td>\n",
              "      <td>ราคาสูง</td>\n",
              "      <td>เดินทางสะดวกสบาย</td>\n",
              "      <td>6210422033</td>\n",
              "      <td>NaN</td>\n",
              "      <td>10</td>\n",
              "      <td>0</td>\n",
              "      <td>10.00-11.00</td>\n",
              "      <td>4</td>\n",
              "      <td>NaN</td>\n",
              "    </tr>\n",
              "    <tr>\n",
              "      <th>4</th>\n",
              "      <td>10.30</td>\n",
              "      <td>ถึงที่ทำงาน เริ่มทำงาน</td>\n",
              "      <td>NaN</td>\n",
              "      <td>เป็นช่วงที่พร้อมทำงานที่สุด</td>\n",
              "      <td>6210422033</td>\n",
              "      <td>NaN</td>\n",
              "      <td>10</td>\n",
              "      <td>30</td>\n",
              "      <td>10.00-11.00</td>\n",
              "      <td>5</td>\n",
              "      <td>NaN</td>\n",
              "    </tr>\n",
              "  </tbody>\n",
              "</table>\n",
              "</div>"
            ],
            "text/plain": [
              "    time                 activity  ... activity_num last_act\n",
              "0  08.30                  ตื่นนอน  ...            1      NaN\n",
              "1  08.35                   อาบน้ำ  ...            2      NaN\n",
              "2  09.00              กินอาหาเช้า  ...            3      NaN\n",
              "3  10.00  เดินทางด้วย BTS ไปทำงาน  ...            4      NaN\n",
              "4  10.30   ถึงที่ทำงาน เริ่มทำงาน  ...            5      NaN\n",
              "\n",
              "[5 rows x 11 columns]"
            ]
          },
          "metadata": {
            "tags": []
          },
          "execution_count": 15
        }
      ]
    },
    {
      "cell_type": "markdown",
      "metadata": {
        "id": "X9jbWMgK_S-X"
      },
      "source": [
        "# Universal Sentence Encoder (USE)"
      ]
    },
    {
      "cell_type": "code",
      "metadata": {
        "id": "4gC9Bku3sXvH"
      },
      "source": [
        "%tensorflow_version 2.x"
      ],
      "execution_count": 18,
      "outputs": []
    },
    {
      "cell_type": "code",
      "metadata": {
        "colab": {
          "base_uri": "https://localhost:8080/"
        },
        "id": "Vqq-O6x7sXxr",
        "outputId": "927156b2-c40f-48e0-821e-b634e885473f"
      },
      "source": [
        "!pip install tensorflow_text"
      ],
      "execution_count": 19,
      "outputs": [
        {
          "output_type": "stream",
          "text": [
            "Collecting tensorflow_text\n",
            "\u001b[?25l  Downloading https://files.pythonhosted.org/packages/a0/86/22ad798f94d564c3e423758b60ddd3689e83ad629b3f31ff2ae45a6e3eed/tensorflow_text-2.4.3-cp36-cp36m-manylinux1_x86_64.whl (3.4MB)\n",
            "\u001b[K     |████████████████████████████████| 3.4MB 5.8MB/s \n",
            "\u001b[?25hRequirement already satisfied: tensorflow<2.5,>=2.4.0 in /usr/local/lib/python3.6/dist-packages (from tensorflow_text) (2.4.1)\n",
            "Requirement already satisfied: tensorflow-hub>=0.8.0 in /usr/local/lib/python3.6/dist-packages (from tensorflow_text) (0.11.0)\n",
            "Requirement already satisfied: h5py~=2.10.0 in /usr/local/lib/python3.6/dist-packages (from tensorflow<2.5,>=2.4.0->tensorflow_text) (2.10.0)\n",
            "Requirement already satisfied: wheel~=0.35 in /usr/local/lib/python3.6/dist-packages (from tensorflow<2.5,>=2.4.0->tensorflow_text) (0.36.2)\n",
            "Requirement already satisfied: gast==0.3.3 in /usr/local/lib/python3.6/dist-packages (from tensorflow<2.5,>=2.4.0->tensorflow_text) (0.3.3)\n",
            "Requirement already satisfied: opt-einsum~=3.3.0 in /usr/local/lib/python3.6/dist-packages (from tensorflow<2.5,>=2.4.0->tensorflow_text) (3.3.0)\n",
            "Requirement already satisfied: grpcio~=1.32.0 in /usr/local/lib/python3.6/dist-packages (from tensorflow<2.5,>=2.4.0->tensorflow_text) (1.32.0)\n",
            "Requirement already satisfied: termcolor~=1.1.0 in /usr/local/lib/python3.6/dist-packages (from tensorflow<2.5,>=2.4.0->tensorflow_text) (1.1.0)\n",
            "Requirement already satisfied: absl-py~=0.10 in /usr/local/lib/python3.6/dist-packages (from tensorflow<2.5,>=2.4.0->tensorflow_text) (0.10.0)\n",
            "Requirement already satisfied: tensorboard~=2.4 in /usr/local/lib/python3.6/dist-packages (from tensorflow<2.5,>=2.4.0->tensorflow_text) (2.4.1)\n",
            "Requirement already satisfied: typing-extensions~=3.7.4 in /usr/local/lib/python3.6/dist-packages (from tensorflow<2.5,>=2.4.0->tensorflow_text) (3.7.4.3)\n",
            "Requirement already satisfied: tensorflow-estimator<2.5.0,>=2.4.0 in /usr/local/lib/python3.6/dist-packages (from tensorflow<2.5,>=2.4.0->tensorflow_text) (2.4.0)\n",
            "Requirement already satisfied: protobuf>=3.9.2 in /usr/local/lib/python3.6/dist-packages (from tensorflow<2.5,>=2.4.0->tensorflow_text) (3.12.4)\n",
            "Requirement already satisfied: six~=1.15.0 in /usr/local/lib/python3.6/dist-packages (from tensorflow<2.5,>=2.4.0->tensorflow_text) (1.15.0)\n",
            "Requirement already satisfied: wrapt~=1.12.1 in /usr/local/lib/python3.6/dist-packages (from tensorflow<2.5,>=2.4.0->tensorflow_text) (1.12.1)\n",
            "Requirement already satisfied: numpy~=1.19.2 in /usr/local/lib/python3.6/dist-packages (from tensorflow<2.5,>=2.4.0->tensorflow_text) (1.19.5)\n",
            "Requirement already satisfied: flatbuffers~=1.12.0 in /usr/local/lib/python3.6/dist-packages (from tensorflow<2.5,>=2.4.0->tensorflow_text) (1.12)\n",
            "Requirement already satisfied: google-pasta~=0.2 in /usr/local/lib/python3.6/dist-packages (from tensorflow<2.5,>=2.4.0->tensorflow_text) (0.2.0)\n",
            "Requirement already satisfied: keras-preprocessing~=1.1.2 in /usr/local/lib/python3.6/dist-packages (from tensorflow<2.5,>=2.4.0->tensorflow_text) (1.1.2)\n",
            "Requirement already satisfied: astunparse~=1.6.3 in /usr/local/lib/python3.6/dist-packages (from tensorflow<2.5,>=2.4.0->tensorflow_text) (1.6.3)\n",
            "Requirement already satisfied: markdown>=2.6.8 in /usr/local/lib/python3.6/dist-packages (from tensorboard~=2.4->tensorflow<2.5,>=2.4.0->tensorflow_text) (3.3.3)\n",
            "Requirement already satisfied: tensorboard-plugin-wit>=1.6.0 in /usr/local/lib/python3.6/dist-packages (from tensorboard~=2.4->tensorflow<2.5,>=2.4.0->tensorflow_text) (1.8.0)\n",
            "Requirement already satisfied: google-auth<2,>=1.6.3 in /usr/local/lib/python3.6/dist-packages (from tensorboard~=2.4->tensorflow<2.5,>=2.4.0->tensorflow_text) (1.17.2)\n",
            "Requirement already satisfied: werkzeug>=0.11.15 in /usr/local/lib/python3.6/dist-packages (from tensorboard~=2.4->tensorflow<2.5,>=2.4.0->tensorflow_text) (1.0.1)\n",
            "Requirement already satisfied: google-auth-oauthlib<0.5,>=0.4.1 in /usr/local/lib/python3.6/dist-packages (from tensorboard~=2.4->tensorflow<2.5,>=2.4.0->tensorflow_text) (0.4.2)\n",
            "Requirement already satisfied: requests<3,>=2.21.0 in /usr/local/lib/python3.6/dist-packages (from tensorboard~=2.4->tensorflow<2.5,>=2.4.0->tensorflow_text) (2.23.0)\n",
            "Requirement already satisfied: setuptools>=41.0.0 in /usr/local/lib/python3.6/dist-packages (from tensorboard~=2.4->tensorflow<2.5,>=2.4.0->tensorflow_text) (51.3.3)\n",
            "Requirement already satisfied: importlib-metadata; python_version < \"3.8\" in /usr/local/lib/python3.6/dist-packages (from markdown>=2.6.8->tensorboard~=2.4->tensorflow<2.5,>=2.4.0->tensorflow_text) (3.4.0)\n",
            "Requirement already satisfied: rsa<5,>=3.1.4; python_version >= \"3\" in /usr/local/lib/python3.6/dist-packages (from google-auth<2,>=1.6.3->tensorboard~=2.4->tensorflow<2.5,>=2.4.0->tensorflow_text) (4.7)\n",
            "Requirement already satisfied: pyasn1-modules>=0.2.1 in /usr/local/lib/python3.6/dist-packages (from google-auth<2,>=1.6.3->tensorboard~=2.4->tensorflow<2.5,>=2.4.0->tensorflow_text) (0.2.8)\n",
            "Requirement already satisfied: cachetools<5.0,>=2.0.0 in /usr/local/lib/python3.6/dist-packages (from google-auth<2,>=1.6.3->tensorboard~=2.4->tensorflow<2.5,>=2.4.0->tensorflow_text) (4.2.1)\n",
            "Requirement already satisfied: requests-oauthlib>=0.7.0 in /usr/local/lib/python3.6/dist-packages (from google-auth-oauthlib<0.5,>=0.4.1->tensorboard~=2.4->tensorflow<2.5,>=2.4.0->tensorflow_text) (1.3.0)\n",
            "Requirement already satisfied: chardet<4,>=3.0.2 in /usr/local/lib/python3.6/dist-packages (from requests<3,>=2.21.0->tensorboard~=2.4->tensorflow<2.5,>=2.4.0->tensorflow_text) (3.0.4)\n",
            "Requirement already satisfied: urllib3!=1.25.0,!=1.25.1,<1.26,>=1.21.1 in /usr/local/lib/python3.6/dist-packages (from requests<3,>=2.21.0->tensorboard~=2.4->tensorflow<2.5,>=2.4.0->tensorflow_text) (1.24.3)\n",
            "Requirement already satisfied: certifi>=2017.4.17 in /usr/local/lib/python3.6/dist-packages (from requests<3,>=2.21.0->tensorboard~=2.4->tensorflow<2.5,>=2.4.0->tensorflow_text) (2020.12.5)\n",
            "Requirement already satisfied: idna<3,>=2.5 in /usr/local/lib/python3.6/dist-packages (from requests<3,>=2.21.0->tensorboard~=2.4->tensorflow<2.5,>=2.4.0->tensorflow_text) (2.10)\n",
            "Requirement already satisfied: zipp>=0.5 in /usr/local/lib/python3.6/dist-packages (from importlib-metadata; python_version < \"3.8\"->markdown>=2.6.8->tensorboard~=2.4->tensorflow<2.5,>=2.4.0->tensorflow_text) (3.4.0)\n",
            "Requirement already satisfied: pyasn1>=0.1.3 in /usr/local/lib/python3.6/dist-packages (from rsa<5,>=3.1.4; python_version >= \"3\"->google-auth<2,>=1.6.3->tensorboard~=2.4->tensorflow<2.5,>=2.4.0->tensorflow_text) (0.4.8)\n",
            "Requirement already satisfied: oauthlib>=3.0.0 in /usr/local/lib/python3.6/dist-packages (from requests-oauthlib>=0.7.0->google-auth-oauthlib<0.5,>=0.4.1->tensorboard~=2.4->tensorflow<2.5,>=2.4.0->tensorflow_text) (3.1.0)\n",
            "Installing collected packages: tensorflow-text\n",
            "Successfully installed tensorflow-text-2.4.3\n"
          ],
          "name": "stdout"
        }
      ]
    },
    {
      "cell_type": "code",
      "metadata": {
        "id": "mHrz2WvosX01"
      },
      "source": [
        "import tensorflow_hub as hub\r\n",
        "import tensorflow_text\r\n",
        "import tensorflow as tf\r\n",
        "import json\r\n",
        "import itertools"
      ],
      "execution_count": 20,
      "outputs": []
    },
    {
      "cell_type": "code",
      "metadata": {
        "colab": {
          "base_uri": "https://localhost:8080/"
        },
        "id": "_iWJnjUisX3-",
        "outputId": "5f9d120e-5e61-44c8-af9c-6ad521ad9e48"
      },
      "source": [
        "#download open subtitle EN-TH dataset\r\n",
        "!wget http://opus.nlpl.eu/download.php?f=OpenSubtitles/v2018/moses/en-th.txt.zip"
      ],
      "execution_count": 21,
      "outputs": [
        {
          "output_type": "stream",
          "text": [
            "--2021-01-30 13:37:59--  http://opus.nlpl.eu/download.php?f=OpenSubtitles/v2018/moses/en-th.txt.zip\n",
            "Resolving opus.nlpl.eu (opus.nlpl.eu)... 193.166.25.9\n",
            "Connecting to opus.nlpl.eu (opus.nlpl.eu)|193.166.25.9|:80... connected.\n",
            "HTTP request sent, awaiting response... 302 Found\n",
            "Location: https://object.pouta.csc.fi/OPUS-OpenSubtitles/v2018/moses/en-th.txt.zip [following]\n",
            "--2021-01-30 13:38:00--  https://object.pouta.csc.fi/OPUS-OpenSubtitles/v2018/moses/en-th.txt.zip\n",
            "Resolving object.pouta.csc.fi (object.pouta.csc.fi)... 86.50.254.19, 86.50.254.18\n",
            "Connecting to object.pouta.csc.fi (object.pouta.csc.fi)|86.50.254.19|:443... connected.\n",
            "HTTP request sent, awaiting response... 200 OK\n",
            "Length: 119520928 (114M) [application/zip]\n",
            "Saving to: ‘download.php?f=OpenSubtitles%2Fv2018%2Fmoses%2Fen-th.txt.zip’\n",
            "\n",
            "download.php?f=Open 100%[===================>] 113.98M  22.5MB/s    in 5.9s    \n",
            "\n",
            "2021-01-30 13:38:07 (19.3 MB/s) - ‘download.php?f=OpenSubtitles%2Fv2018%2Fmoses%2Fen-th.txt.zip’ saved [119520928/119520928]\n",
            "\n"
          ],
          "name": "stdout"
        }
      ]
    },
    {
      "cell_type": "code",
      "metadata": {
        "colab": {
          "base_uri": "https://localhost:8080/"
        },
        "id": "FR1tOrbwsn_J",
        "outputId": "6830d1df-130e-4880-f9c5-ff9f72a22e38"
      },
      "source": [
        "!unzip download.php?f=OpenSubtitles%2Fv2018%2Fmoses%2Fen-th.txt.zip -d data"
      ],
      "execution_count": 22,
      "outputs": [
        {
          "output_type": "stream",
          "text": [
            "Archive:  download.php?f=OpenSubtitles%2Fv2018%2Fmoses%2Fen-th.txt.zip\n",
            "  inflating: data/OpenSubtitles.en-th.en  \n",
            "  inflating: data/OpenSubtitles.en-th.th  \n",
            "  inflating: data/OpenSubtitles.en-th.ids  \n",
            "  inflating: data/README             \n"
          ],
          "name": "stdout"
        }
      ]
    },
    {
      "cell_type": "code",
      "metadata": {
        "id": "7NzJn73csrB5"
      },
      "source": [
        "#Create USE embedding by using tensorflow hub\r\n",
        "embed = hub.load(\"https://tfhub.dev/google/universal-sentence-encoder-multilingual/3\")"
      ],
      "execution_count": 23,
      "outputs": []
    },
    {
      "cell_type": "code",
      "metadata": {
        "id": "r53shLthsrKA"
      },
      "source": [
        "df_pain = df_day['pain'].astype(str)\r\n",
        "df_gain = df_day['gain'].astype(str)\r\n",
        "\r\n",
        "df_use_pain = pd.DataFrame(embed(df_pain.values).numpy(),index= df_pain.values)\r\n",
        "df_use_gain = pd.DataFrame(embed(df_gain.values).numpy(),index= df_gain.values)"
      ],
      "execution_count": 24,
      "outputs": []
    },
    {
      "cell_type": "markdown",
      "metadata": {
        "id": "6dJOdjNQbkNl"
      },
      "source": [
        "## Cluster Free Text"
      ]
    },
    {
      "cell_type": "code",
      "metadata": {
        "id": "s2hgnkigvapJ"
      },
      "source": [
        "import umap\r\n",
        "from sklearn.cluster import DBSCAN"
      ],
      "execution_count": null,
      "outputs": []
    },
    {
      "cell_type": "code",
      "metadata": {
        "id": "n1WfJOlkvg_E"
      },
      "source": [
        "df_trans_pain = umap.UMAP(n_neighbors=5, random_state=42).fit_transform(df_use_pain)\r\n",
        "df_trans_gain = umap.UMAP(n_neighbors=5, random_state=42).fit_transform(df_use_gain)"
      ],
      "execution_count": null,
      "outputs": []
    },
    {
      "cell_type": "code",
      "metadata": {
        "id": "NgtDqwKmvu3H"
      },
      "source": [
        "# you can adjust eps as you want\r\n",
        "label_pain = DBSCAN(eps=1, min_samples=3).fit_predict(df_trans_pain)\r\n",
        "label_gain = DBSCAN(eps=1, min_samples=3).fit_predict(df_trans_gain)"
      ],
      "execution_count": null,
      "outputs": []
    },
    {
      "cell_type": "code",
      "metadata": {
        "id": "BIPgPhYvv4u5"
      },
      "source": [
        "df_result_pain = pd.DataFrame({'pain' : df_pain,\r\n",
        "                               'cluster' : label_pain})\r\n",
        "df_result_gain = pd.DataFrame({'gain' : df_gain,\r\n",
        "                               'cluster' : label_gain})"
      ],
      "execution_count": null,
      "outputs": []
    },
    {
      "cell_type": "code",
      "metadata": {
        "id": "qvDR0VUTg-Hb"
      },
      "source": [
        "# loop display each cluster number\r\n",
        "unq_pain = df_result_pain['cluster'].unique()\r\n",
        "unq_pain.sort()\r\n",
        "for cluster in unq_pain:\r\n",
        "  temp = df_result_pain[df_result_pain['cluster']==cluster]\r\n",
        "  display(temp.shape)\r\n",
        "  display(temp)"
      ],
      "execution_count": null,
      "outputs": []
    },
    {
      "cell_type": "markdown",
      "metadata": {
        "id": "fojX8bsrh877"
      },
      "source": [
        "## Group Pain Cluster\r\n",
        "<li> ความลำคาล : 0\r\n",
        "<li> อยากนอน - ง่วง : 1 4 12\r\n",
        "<li> แพง : 2\r\n",
        "<li> nan : 3\r\n",
        "<li> น้ำเย็น / หนาว : 5 7 11\r\n",
        "<li> หิว / กลัวอ้วน : 6\r\n",
        "<li> งานเพิ่ม / งานไม่เสร็จ : 8 13 16\r\n",
        "<li> เหนื่อย : 9\r\n",
        "<li> รถติด/ขับรถ : 10 15\r\n",
        "<li> เบื่อ : 14"
      ]
    },
    {
      "cell_type": "code",
      "metadata": {
        "id": "1JVtryellgt_"
      },
      "source": [
        "dic_group_pain = {\r\n",
        "    0 : 'ความลำคาญ',\r\n",
        "    1 : 'ง่วง',\r\n",
        "    4 : 'ง่วง',\r\n",
        "    12 :'ง่วง',\r\n",
        "    2 : 'แพง',\r\n",
        "    3 : 'ไม่ระบุ',\r\n",
        "    5 : 'หนาว',\r\n",
        "    7 : 'หนาว',\r\n",
        "    11 :'หนาว',\r\n",
        "    6 : 'หิว-กลัวอ้วน',\r\n",
        "    8 : 'งานเพิ่ม-ไม่เสร็จ', \r\n",
        "    13 : 'งานเพิ่ม-ไม่เสร็จ', \r\n",
        "    16 : 'งานเพิ่ม-ไม่เสร็จ',\r\n",
        "    9 : 'เหนื่อย',\r\n",
        "    10 : 'รถติด-ต้องขับรถ',\r\n",
        "    15 : 'รถติด-ต้องขับรถ',\r\n",
        "    14 : 'รถติด-ต้องขับรถ'\r\n",
        "}"
      ],
      "execution_count": null,
      "outputs": []
    },
    {
      "cell_type": "markdown",
      "metadata": {
        "id": "V2fY2_v5kDQq"
      },
      "source": [
        "## Group Gain Cluster\r\n",
        "<li> สดชื่น : 0 1 8 11 14\r\n",
        "<li> อิ่ม : 2 9\r\n",
        "<li> ฟิน : 3 20 19 18\r\n",
        "<li> พักผ่อน : 4 6 16 17\r\n",
        "<li> เรียนรู้สิ่งใหม่ : 5 12\r\n",
        "<li> nan : 7\r\n",
        "<li> ได้เงิน : 10\r\n",
        "<li> ออกกำลังกาย : 13\r\n",
        "<li> ทำการบ้าน : 15\r\n"
      ]
    },
    {
      "cell_type": "code",
      "metadata": {
        "id": "hPiynLXSj0po"
      },
      "source": [
        "unq_gain = df_result_gain['cluster'].unique()\r\n",
        "unq_gain.sort()\r\n",
        "for cluster in unq_gain:\r\n",
        "  temp = df_result_gain[df_result_gain['cluster']==cluster]\r\n",
        "  display(temp.shape)\r\n",
        "  display(temp)"
      ],
      "execution_count": null,
      "outputs": []
    },
    {
      "cell_type": "code",
      "metadata": {
        "id": "4EZxyi-Rmncr"
      },
      "source": [
        "dic_group_gain = {\r\n",
        "    0 : 'สดชื่น',\r\n",
        "    1 : 'สดชื่น',\r\n",
        "    8 : 'สดชื่น',\r\n",
        "    11 :'สดชื่น',\r\n",
        "    14 :'สดชื่น',\r\n",
        "    2 : 'อิ่ม',\r\n",
        "    9 : 'อิ่ม',\r\n",
        "    3 : 'ฟิน',\r\n",
        "    20 :'ฟิน',\r\n",
        "    19 :'ฟิน',\r\n",
        "    18 :'ฟิน',\r\n",
        "    4 : 'พักผ่อน',\r\n",
        "    6 : 'พักผ่อน',\r\n",
        "    16 :'พักผ่อน',\r\n",
        "    17 :'พักผ่อน',\r\n",
        "    5 : 'เรียนรู้สิ่งใหม่',\r\n",
        "    12 :'เรียนรู้สิ่งใหม่',\r\n",
        "    7 : 'ไม่ระบุ',\r\n",
        "    10 :'ได้เงิน',\r\n",
        "    13 :'ออกกำลังกาย',\r\n",
        "    15 :'ทำการบ้าน'\r\n",
        "}"
      ],
      "execution_count": null,
      "outputs": []
    },
    {
      "cell_type": "markdown",
      "metadata": {
        "id": "U5TV_QTAgM-Y"
      },
      "source": [
        "## Assign Gain & Pain Cluster/Main Category"
      ]
    },
    {
      "cell_type": "code",
      "metadata": {
        "id": "3QElJL8XhNUL"
      },
      "source": [
        "df_result_pain['group_pain'] = df_result_pain['cluster'].replace(dic_group_pain)\r\n",
        "df_result_gain['group_gain'] = df_result_gain['cluster'].replace(dic_group_gain)\r\n",
        "print('\\n------------Group of Pain--------------\\n')\r\n",
        "display(df_result_pain['group_pain'].value_counts().head(8))\r\n",
        "print('\\n------------Group of Gain--------------\\n')\r\n",
        "display(df_result_gain['group_gain'].value_counts().head(8))"
      ],
      "execution_count": null,
      "outputs": []
    },
    {
      "cell_type": "code",
      "metadata": {
        "id": "ibL6GpfOp3d8"
      },
      "source": [
        "df_day['group_pain'] = df_result_pain['cluster'].replace(dic_group_pain)\r\n",
        "df_day['group_gain'] = df_result_gain['cluster'].replace(dic_group_gain)\r\n",
        "df_day.head()"
      ],
      "execution_count": null,
      "outputs": []
    },
    {
      "cell_type": "code",
      "metadata": {
        "id": "xx4qn6_5ziWy"
      },
      "source": [
        "df_day.head()"
      ],
      "execution_count": null,
      "outputs": []
    },
    {
      "cell_type": "code",
      "metadata": {
        "id": "6lPJCmI1XDMt"
      },
      "source": [
        "# ignore ไม่ระบุ of group_pain\r\n",
        "df_day_pain = df_day.groupby(['time_range','group_pain'])['stu_id'].count().reset_index()\r\n",
        "df_day_pain = df_day_pain[df_day_pain['group_pain']!='ไม่ระบุ']\r\n",
        "# ignore ไม่ระบุ of group_gain\r\n",
        "df_day_gain = df_day.groupby(['time_range','group_gain'])['stu_id'].count().reset_index()\r\n",
        "df_day_gain = df_day_gain[df_day_gain['group_gain']!='ไม่ระบุ']"
      ],
      "execution_count": null,
      "outputs": []
    },
    {
      "cell_type": "code",
      "metadata": {
        "id": "IW22CwtTgn2l"
      },
      "source": [
        "df_day_pain.head()"
      ],
      "execution_count": null,
      "outputs": []
    },
    {
      "cell_type": "code",
      "metadata": {
        "id": "29pnKKyLXl1r"
      },
      "source": [
        "df_day_gain"
      ],
      "execution_count": null,
      "outputs": []
    },
    {
      "cell_type": "markdown",
      "metadata": {
        "id": "eXM5vvUqbwgB"
      },
      "source": [
        "## Scatter plot"
      ]
    },
    {
      "cell_type": "code",
      "metadata": {
        "id": "i_D-ft8uqQpb"
      },
      "source": [
        "fig, ax = plt.subplots(2,1,figsize =(20,18), sharex =True, sharey=True)\r\n",
        "sns.scatterplot(x='time_range', y='stu_id', \r\n",
        "                data = df_day_pain, ax=ax[0], \r\n",
        "                s= 80, label = 'PAIN',\r\n",
        "                color ='r')\r\n",
        "sns.scatterplot(x='time_range', y='stu_id', data = df_day_gain, ax=ax[1], s= 80, label = 'GAIN', color='green')\r\n",
        "\r\n",
        "for i in df_day_pain.index:\r\n",
        "  ax[0].annotate(df_day_pain.loc[i,'group_pain'], (df_day_pain.loc[i,'time_range'], df_day_pain.loc[i,'stu_id']))\r\n",
        "\r\n",
        "for i in df_day_gain.index:\r\n",
        "  ax[1].annotate(df_day_gain.loc[i,'group_gain'], (df_day_gain.loc[i,'time_range'], df_day_gain.loc[i,'stu_id']))\r\n",
        "\r\n",
        "ax[1].set_xticklabels(df_day_pain['time_range'].unique(),rotation=45)\r\n",
        "plt.show()"
      ],
      "execution_count": null,
      "outputs": []
    },
    {
      "cell_type": "markdown",
      "metadata": {
        "id": "DNM7vbwQb3PN"
      },
      "source": [
        "## Write file"
      ]
    },
    {
      "cell_type": "code",
      "metadata": {
        "id": "DYOQSEQrqQs9"
      },
      "source": [
        "df_day_gain.to_csv('daily_gain.csv',index=False)\r\n",
        "df_day_pain.to_csv('daily_pain.csv',index=False)\r\n",
        "df_day.to_csv('daily_all.csv', index=False)\r\n",
        "wake2sleep.to_csv('wake2sleep.csv',index=False)"
      ],
      "execution_count": null,
      "outputs": []
    },
    {
      "cell_type": "code",
      "metadata": {
        "id": "HhRm3unLggRN"
      },
      "source": [
        "# use for tree decomposition in power bi\r\n",
        "df_pain_pv = df_day[df_day['group_pain']!='ไม่ระบุ'].pivot_table(index='stu_id', columns = 'activity_num',values = 'group_pain', aggfunc = 'sum')\r\n",
        "df_gain_pv = df_day[df_day['group_gain']!='ไม่ระบุ'].pivot_table(index='stu_id', columns = 'activity_num',values = 'group_gain', aggfunc = 'sum')\r\n",
        "df_pain_pv.to_csv('df_pain_pv.csv')\r\n",
        "df_gain_pv.to_csv('df_gain_pv.csv')"
      ],
      "execution_count": null,
      "outputs": []
    },
    {
      "cell_type": "code",
      "metadata": {
        "id": "AvctXgOBg9Jt"
      },
      "source": [
        ""
      ],
      "execution_count": null,
      "outputs": []
    }
  ]
}